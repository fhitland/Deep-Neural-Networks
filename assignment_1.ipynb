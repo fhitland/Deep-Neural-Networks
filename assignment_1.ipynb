{
 "cells": [
  {
   "cell_type": "code",
   "execution_count": 141,
   "metadata": {},
   "outputs": [],
   "source": [
    "import csv\n",
    "import math\n",
    "from random import randrange, seed, shuffle, choice\n"
   ]
  },
  {
   "cell_type": "code",
   "execution_count": 142,
   "metadata": {},
   "outputs": [],
   "source": [
    "\n",
    "# Function to load and preprocess the data\n",
    "def load_csv(filename):\n",
    "    data = []\n",
    "    with open(filename, 'r') as file:\n",
    "        reader = csv.reader(file)\n",
    "        for row in reader:\n",
    "            if not row:\n",
    "                continue\n",
    "            data.append(row)\n",
    "    return data\n"
   ]
  },
  {
   "cell_type": "code",
   "execution_count": 143,
   "metadata": {},
   "outputs": [],
   "source": [
    "\n",
    "# Convert string column to float\n",
    "def str_column_to_float(dataset, column):\n",
    "    for row in dataset:\n",
    "        row[column] = float(row[column].strip())\n"
   ]
  },
  {
   "cell_type": "code",
   "execution_count": 144,
   "metadata": {},
   "outputs": [],
   "source": [
    "\n",
    "# Split a dataset into a train and test set\n",
    "def train_test_split(dataset, split=0.70):\n",
    "    train = list(dataset)\n",
    "    train_size = split * len(dataset)\n",
    "    test = list()\n",
    "    while len(test) < len(dataset) - train_size:\n",
    "        index = randrange(len(train))\n",
    "        test.append(train.pop(index))\n",
    "    return train, test\n"
   ]
  },
  {
   "cell_type": "code",
   "execution_count": 145,
   "metadata": {},
   "outputs": [],
   "source": [
    "\n",
    "# Calculate Euclidean distance between two vectors\n",
    "def euclidean_distance(row1, row2):\n",
    "    distance = 0.0\n",
    "    for i in range(len(row1)-1):\n",
    "        distance += (row1[i] - row2[i])**2\n",
    "    return math.sqrt(distance)\n"
   ]
  },
  {
   "cell_type": "code",
   "execution_count": 146,
   "metadata": {},
   "outputs": [],
   "source": [
    "\n",
    "# Locate the most similar neighbors\n",
    "def get_neighbors(train, test_row, num_neighbors):\n",
    "    distances = list()\n",
    "    for train_row in train:\n",
    "        dist = euclidean_distance(test_row, train_row)\n",
    "        distances.append((train_row, dist))\n",
    "    distances.sort(key=lambda tup: tup[1])\n",
    "    neighbors = list()\n",
    "    for i in range(num_neighbors):\n",
    "        neighbors.append(distances[i][0])\n",
    "    return neighbors\n"
   ]
  },
  {
   "cell_type": "code",
   "execution_count": 147,
   "metadata": {},
   "outputs": [],
   "source": [
    "\n",
    "# Make a prediction with neighbors\n",
    "def predict_classification(train, test_row, num_neighbors):\n",
    "    neighbors = get_neighbors(train, test_row, num_neighbors)\n",
    "    output_values = [row[-1] for row in neighbors]\n",
    "    prediction = max(set(output_values), key=output_values.count)\n",
    "    return prediction\n"
   ]
  },
  {
   "cell_type": "code",
   "execution_count": 148,
   "metadata": {},
   "outputs": [],
   "source": [
    "\n",
    "# Calculate accuracy percentage\n",
    "def accuracy_metric(actual, predicted):\n",
    "    correct = 0\n",
    "    for i in range(len(actual)):\n",
    "        if actual[i] == predicted[i]:\n",
    "            correct += 1\n",
    "    return correct / float(len(actual)) * 100.0\n"
   ]
  },
  {
   "cell_type": "code",
   "execution_count": 149,
   "metadata": {},
   "outputs": [],
   "source": [
    "\n",
    "# KNN Algorithm\n",
    "def k_nearest_neighbors(train, test, num_neighbors):\n",
    "    predictions = list()\n",
    "    for row in test:\n",
    "        output = predict_classification(train, row, num_neighbors)\n",
    "        predictions.append(output)\n",
    "    return(predictions)\n"
   ]
  },
  {
   "cell_type": "code",
   "execution_count": 150,
   "metadata": {},
   "outputs": [
    {
     "name": "stdout",
     "output_type": "stream",
     "text": [
      "Neighbors: 1, Accuracy: 68.83%\n",
      "Neighbors: 3, Accuracy: 71.43%\n",
      "Neighbors: 5, Accuracy: 70.13%\n",
      "Neighbors: 7, Accuracy: 73.16%\n",
      "Neighbors: 9, Accuracy: 72.29%\n",
      "Neighbors: 11, Accuracy: 72.73%\n",
      "Neighbors: 13, Accuracy: 72.73%\n",
      "Neighbors: 15, Accuracy: 73.59%\n",
      "Neighbors: 17, Accuracy: 72.73%\n",
      "Neighbors: 19, Accuracy: 71.43%\n",
      "Neighbors: 21, Accuracy: 71.43%\n",
      "\n",
      "Best number of neighbors: 15, with Accuracy: 73.59%\n",
      "\n",
      "Selected individual's data: [1.0, 131.0, 64.0, 14.0, 415.0, 23.7, 0.389, 21.0]\n",
      "\n",
      "Actual Class: 0\n",
      "\n",
      "Predicted Class (0 for non-diabetic, 1 for diabetic): 0\n"
     ]
    }
   ],
   "source": [
    "\n",
    "# Load and prepare data\n",
    "filename = 'C:\\\\Users\\\\fhitl\\\\Documents\\\\Deep_Neural_Networks_Assignments\\\\datasets\\\\pima-indians-diabetes.csv'\n",
    "dataset = load_csv(filename)\n",
    "\n",
    "# Convert string attributes to integers\n",
    "for i in range(len(dataset[0])-1):\n",
    "    str_column_to_float(dataset, i)\n",
    "\n",
    "# Evaluate algorithm\n",
    "seed(1)\n",
    "train, test = train_test_split(dataset, 0.70)\n",
    "\n",
    "best_accuracy = 0\n",
    "best_k = 0\n",
    "\n",
    "for num_neighbors in [1, 3, 5, 7, 9, 11, 13, 15, 17, 19, 21]:\n",
    "    predictions = k_nearest_neighbors(train, test, num_neighbors)\n",
    "    actual = [row[-1] for row in test]\n",
    "    accuracy = accuracy_metric(actual, predictions)\n",
    "    print(f'Neighbors: {num_neighbors}, Accuracy: {accuracy:.2f}%')\n",
    "\n",
    "    # Check if this is the best accuracy so far\n",
    "    if accuracy > best_accuracy:\n",
    "        best_accuracy = accuracy\n",
    "        best_k = num_neighbors\n",
    "\n",
    "# Print the best k and its accuracy\n",
    "print(f'\\nBest number of neighbors: {best_k}, with Accuracy: {best_accuracy:.2f}%')\n",
    "\n",
    "# Select a random individual from the test set\n",
    "random_individual = choice(test)\n",
    "\n",
    "# Predict for the random individual\n",
    "predicted_class = predict_classification(train, random_individual, best_k)\n",
    "print(f\"\\nSelected individual's data: {random_individual[:-1]}\")\n",
    "print(f\"\\nActual Class: {random_individual[-1]}\")\n",
    "print(f\"\\nPredicted Class (0 for non-diabetic, 1 for diabetic): {predicted_class}\")"
   ]
  }
 ],
 "metadata": {
  "kernelspec": {
   "display_name": "DeepNeuralNetworks",
   "language": "python",
   "name": "python3"
  },
  "language_info": {
   "codemirror_mode": {
    "name": "ipython",
    "version": 3
   },
   "file_extension": ".py",
   "mimetype": "text/x-python",
   "name": "python",
   "nbconvert_exporter": "python",
   "pygments_lexer": "ipython3",
   "version": "3.8.18"
  }
 },
 "nbformat": 4,
 "nbformat_minor": 2
}
